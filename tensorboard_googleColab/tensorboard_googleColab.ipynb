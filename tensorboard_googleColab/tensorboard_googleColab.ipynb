{
  "nbformat": 4,
  "nbformat_minor": 0,
  "metadata": {
    "colab": {
      "name": "Untitled8.ipynb",
      "provenance": []
    },
    "kernelspec": {
      "name": "python3",
      "display_name": "Python 3"
    },
    "accelerator": "GPU"
  },
  "cells": [
    {
      "cell_type": "code",
      "metadata": {
        "id": "u6BN_s90Yeis",
        "colab_type": "code",
        "outputId": "f72f2ea4-381c-479b-8430-038945eddf01",
        "colab": {
          "base_uri": "https://localhost:8080/",
          "height": 126
        }
      },
      "source": [
        "from google.colab import drive\n",
        "drive.mount('/content/drive')"
      ],
      "execution_count": 1,
      "outputs": [
        {
          "output_type": "stream",
          "text": [
            "Go to this URL in a browser: https://accounts.google.com/o/oauth2/auth?client_id=947318989803-6bn6qk8qdgf4n4g3pfee6491hc0brc4i.apps.googleusercontent.com&redirect_uri=urn%3aietf%3awg%3aoauth%3a2.0%3aoob&response_type=code&scope=email%20https%3a%2f%2fwww.googleapis.com%2fauth%2fdocs.test%20https%3a%2f%2fwww.googleapis.com%2fauth%2fdrive%20https%3a%2f%2fwww.googleapis.com%2fauth%2fdrive.photos.readonly%20https%3a%2f%2fwww.googleapis.com%2fauth%2fpeopleapi.readonly\n",
            "\n",
            "Enter your authorization code:\n",
            "··········\n",
            "Mounted at /content/drive\n"
          ],
          "name": "stdout"
        }
      ]
    },
    {
      "cell_type": "code",
      "metadata": {
        "id": "vtkUAPWKYhTW",
        "colab_type": "code",
        "outputId": "e9692a7c-f82d-45d5-8d50-a66f89c4507f",
        "colab": {
          "base_uri": "https://localhost:8080/",
          "height": 35
        }
      },
      "source": [
        "cd drive/My\\ Drive/tensorcheck"
      ],
      "execution_count": 2,
      "outputs": [
        {
          "output_type": "stream",
          "text": [
            "/content/drive/My Drive/tensorcheck\n"
          ],
          "name": "stdout"
        }
      ]
    },
    {
      "cell_type": "code",
      "metadata": {
        "id": "akD8rsrAY-go",
        "colab_type": "code",
        "colab": {}
      },
      "source": [
        "import pickle as pk\n",
        "f1 = open(\"angle.pk\",\"rb\")\n",
        "angleArray = pk.load(f1)\n",
        "f2 = open(\"image.pk\",\"rb\")\n",
        "imageArray = pk.load(f2)\n",
        "f1.close()\n",
        "f2.close()"
      ],
      "execution_count": 0,
      "outputs": []
    },
    {
      "cell_type": "code",
      "metadata": {
        "id": "KtsUeQW7Zh7u",
        "colab_type": "code",
        "outputId": "008d40bd-1087-4c2e-b40e-0f56ecc78065",
        "colab": {
          "base_uri": "https://localhost:8080/",
          "height": 82
        }
      },
      "source": [
        "import tensorflow as tf\n",
        "import pandas as pd\n",
        "from skimage import io\n",
        "from skimage.transform import resize\n",
        "import numpy as np\n",
        "import pickle\n",
        "from keras.models import load_model\n",
        "\n",
        "from keras.callbacks import ModelCheckpoint\n",
        "from keras.callbacks import EarlyStopping  \n",
        "from keras.models import Model\n",
        "from tensorflow.python import debug as tf_debug\n",
        "tf.compat.v1.reset_default_graph()"
      ],
      "execution_count": 4,
      "outputs": [
        {
          "output_type": "display_data",
          "data": {
            "text/html": [
              "<p style=\"color: red;\">\n",
              "The default version of TensorFlow in Colab will soon switch to TensorFlow 2.x.<br>\n",
              "We recommend you <a href=\"https://www.tensorflow.org/guide/migrate\" target=\"_blank\">upgrade</a> now \n",
              "or ensure your notebook will continue to use TensorFlow 1.x via the <code>%tensorflow_version 1.x</code> magic:\n",
              "<a href=\"https://colab.research.google.com/notebooks/tensorflow_version.ipynb\" target=\"_blank\">more info</a>.</p>\n"
            ],
            "text/plain": [
              "<IPython.core.display.HTML object>"
            ]
          },
          "metadata": {
            "tags": []
          }
        },
        {
          "output_type": "stream",
          "text": [
            "Using TensorFlow backend.\n"
          ],
          "name": "stderr"
        }
      ]
    },
    {
      "cell_type": "code",
      "metadata": {
        "id": "o2PsHsbFZ6BK",
        "colab_type": "code",
        "colab": {}
      },
      "source": [
        "height = 66\n",
        "width = 200\n",
        "channels = 3\n",
        "tf.compat.v1.reset_default_graph()\n",
        "\n",
        "\n",
        "\n",
        "inputVal = tf.compat.v1.placeholder(tf.float32, shape = [None ,height,width,channels],name = 'features')\n",
        "output = tf.compat.v1.placeholder(tf.float32, shape = [None,1],name = 'output')\n",
        "lr = tf.compat.v1.placeholder(tf.float32, name = 'lr')\n",
        "infinityVar = tf.compat.v1.placeholder(tf.int32,name=\"infinity\")\n",
        "\n",
        "filter1 = tf.compat.v1.get_variable('weights1', [5, 5, 3, 24], \n",
        "                              initializer=tf.compat.v1.truncated_normal_initializer(stddev=5e-2, dtype=tf.float32), \n",
        "                              dtype=tf.float32)    \n",
        "conv1 = tf.nn.conv2d(inputVal, filter1, strides = 2, padding='VALID', name = 'conv1')\n",
        "conv1 = tf.nn.relu(conv1)\n",
        "\n",
        "filter2 = tf.compat.v1.get_variable('weights2', [5, 5, 24, 36], \n",
        "                              initializer=tf.compat.v1.truncated_normal_initializer(stddev=5e-2, dtype=tf.float32), \n",
        "                              dtype=tf.float32)    \n",
        "conv2 = tf.nn.conv2d(conv1, filter2, strides = 2, padding='VALID', name = 'conv2')\n",
        "conv2 = tf.nn.relu(conv2)\n",
        "\n",
        "filter3 = tf.compat.v1.get_variable('weights3', [5, 5, 36, 48], \n",
        "                              initializer=tf.compat.v1.truncated_normal_initializer(stddev=5e-2, dtype=tf.float32), \n",
        "                              dtype=tf.float32)    \n",
        "conv3 = tf.nn.conv2d(conv2, filter3, strides = 2, padding='VALID', name = 'conv3')\n",
        "conv3 = tf.nn.relu(conv3)\n",
        "\n",
        "filter4 = tf.compat.v1.get_variable('weights4', [3, 3, 48, 64], \n",
        "                              initializer=tf.compat.v1.truncated_normal_initializer(stddev=5e-2, dtype=tf.float32), \n",
        "                              dtype=tf.float32)    \n",
        "conv4 = tf.nn.conv2d(conv3, filter4, strides = 1, padding='VALID', name = 'conv4')\n",
        "conv4 = tf.nn.relu(conv4)\n",
        "\n",
        "filter5 = tf.compat.v1.get_variable('weights5', [3, 3, 64, 64], \n",
        "                              initializer=tf.compat.v1.truncated_normal_initializer(stddev=5e-2, dtype=tf.float32), \n",
        "                              dtype=tf.float32)    \n",
        "conv5 = tf.nn.conv2d(conv4, filter5, strides = 1, padding='VALID', name = 'conv5')\n",
        "conv5 = tf.nn.relu(conv5)\n",
        "\n",
        "conv5_reshaped = tf.reshape(conv5,shape = (-1,conv5.shape[1]*conv5.shape[2]*conv5.shape[3]))\n",
        "\n",
        "dense1  = tf.compat.v1.layers.dense(conv5_reshaped,20,activation=tf.nn.relu)\n",
        "dense2  = tf.compat.v1.layers.dense(dense1,15,activation=tf.nn.relu)\n",
        "dense3  = tf.compat.v1.layers.dense(dense2,10,activation=tf.nn.relu)\n",
        "dense4  = tf.compat.v1.layers.dense(dense3,1,activation=tf.nn.relu)\n",
        "\n",
        "#res = tf.cond(tf.equal(infinityVar,5), lambda: tf.add(5, 1), lambda: tf.add(6, 10))\n",
        "\n",
        "residual_error = tf.cond(tf.equal(infinityVar,3), lambda:tf.pow(dense4-output,2)/0, lambda:tf.pow(dense4-output,2))\n",
        "'''\n",
        "if(infinityVar == 5):\n",
        "  dense4 = dense4/0\n",
        "  residual_error = tf.pow(dense4-output,2)/0\n",
        "  raise ValueError(\"Infinity exception raised Vipin\" + str(residual_error)) \n",
        "else:\n",
        "'''\n",
        "#residual_error = tf.pow(dense4-output,2)\n",
        "\n",
        "cost = tf.reduce_mean(residual_error) \n",
        "loss_summary = tf.compat.v1.summary.scalar(name=\"loss\",tensor=cost)\n",
        "r_error = tf.compat.v1.summary.scalar(name=\"error\",tensor=residual_error[0][0])\n",
        "\n",
        "optimizer = tf.compat.v1.train.AdamOptimizer(learning_rate=lr)\n",
        "train_op = optimizer.minimize(cost)\n",
        "\n",
        "init = tf.compat.v1.global_variables_initializer()\n"
      ],
      "execution_count": 0,
      "outputs": []
    },
    {
      "cell_type": "code",
      "metadata": {
        "id": "Dwk_1EBZbgzH",
        "colab_type": "code",
        "outputId": "00b19a63-e47c-4bf9-ee77-fc97bcd6ddb9",
        "colab": {
          "base_uri": "https://localhost:8080/",
          "height": 35
        }
      },
      "source": [
        "angleArray.shape"
      ],
      "execution_count": 28,
      "outputs": [
        {
          "output_type": "execute_result",
          "data": {
            "text/plain": [
              "(10, 1)"
            ]
          },
          "metadata": {
            "tags": []
          },
          "execution_count": 28
        }
      ]
    },
    {
      "cell_type": "code",
      "metadata": {
        "id": "a8HBf8ZRZ-iK",
        "colab_type": "code",
        "outputId": "6b79afcc-45b7-4115-8ab0-36d9dd353840",
        "colab": {
          "base_uri": "https://localhost:8080/",
          "height": 372
        }
      },
      "source": [
        "with tf.compat.v1.Session() as sess:\n",
        "    sess = tf_debug.TensorBoardDebugWrapperSession(sess, \"aca6538b0d55:7003\")\n",
        "    summ_writer = tf.compat.v1.summary.FileWriter(\"out\",sess.graph)\n",
        "    init.run()\n",
        "   \n",
        "    \n",
        "    epoch = 10\n",
        "    previous = 0\n",
        "    for i in range(epoch):\n",
        "        '''\n",
        "        r,ls, z ,loss,error,f1,f2,f3,f4,f5,d4,d3,d2,d1 = sess.run((r_error,loss_summary, train_op,cost, residual_error, filter1, filter2,filter3,filter4,filter5, dense4,dense3,dense2,dense1), \n",
        "                                feed_dict={inputVal:imageArray, \n",
        "                                      output:angleArray,\n",
        "                                      lr:0.001})\n",
        "        '''\n",
        "        r, i, d4,d3,ls,_,loss = sess.run((residual_error,infinityVar, dense4,dense3, loss_summary, train_op, cost), \n",
        "                                feed_dict={inputVal:imageArray, \n",
        "                                            output:angleArray,\n",
        "                                            lr:0.001,\n",
        "                                            infinityVar:i})\n",
        "        print(\"***************************************************\",loss,i, d4,r) \n",
        "        summ_writer.add_summary(ls, i)\n",
        "        #summ_writer.add_summary(r, i)\n",
        "        #if(previous != loss):\n",
        "            #print(\"***************************************************\",loss)    \n",
        "        #    previous = loss\n",
        "        #print(\"error:\",error)\n"
      ],
      "execution_count": 0,
      "outputs": [
        {
          "output_type": "stream",
          "text": [
            "75 ops no flops stats due to incomplete shapes.\n"
          ],
          "name": "stderr"
        },
        {
          "output_type": "stream",
          "text": [
            "*************************************************** 0.00030101533 0 [[0.0056981 ]\n",
            " [0.0046447 ]\n",
            " [0.0044414 ]\n",
            " [0.00406766]\n",
            " [0.00371568]\n",
            " [0.00353077]\n",
            " [0.00345256]\n",
            " [0.00324651]\n",
            " [0.00299477]\n",
            " [0.00314516]] [[2.17078250e-05]\n",
            " [1.33182334e-06]\n",
            " [9.03908642e-07]\n",
            " [1.36498898e-06]\n",
            " [6.33948594e-06]\n",
            " [1.15921765e-04]\n",
            " [4.15543385e-04]\n",
            " [8.94892029e-04]\n",
            " [8.52948113e-04]\n",
            " [6.99199911e-04]]\n"
          ],
          "name": "stdout"
        }
      ]
    },
    {
      "cell_type": "code",
      "metadata": {
        "id": "dl-h3v09Y8kY",
        "colab_type": "code",
        "colab": {}
      },
      "source": [
        "%load_ext tensorboard"
      ],
      "execution_count": 0,
      "outputs": []
    },
    {
      "cell_type": "code",
      "metadata": {
        "id": "6Yp2gseWYFCb",
        "colab_type": "code",
        "outputId": "d90aaa07-9143-4513-c2c0-1a328ed5c812",
        "colab": {
          "base_uri": "https://localhost:8080/",
          "height": 35
        }
      },
      "source": [
        "%tensorboard --logdir \"out\" --port 4321 --debugger_port 7003"
      ],
      "execution_count": 1,
      "outputs": [
        {
          "output_type": "stream",
          "text": [
            "UsageError: Line magic function `%tensorboard` not found.\n"
          ],
          "name": "stderr"
        }
      ]
    }
  ]
}